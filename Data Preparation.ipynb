{
 "cells": [
  {
   "cell_type": "markdown",
   "metadata": {},
   "source": [
    "##CHURN PREDICTION"
   ]
  },
  {
   "cell_type": "code",
   "execution_count": 2,
   "metadata": {},
   "outputs": [],
   "source": [
    "import os\n",
    "os.chdir(\"Datasets\")"
   ]
  },
  {
   "cell_type": "code",
   "execution_count": 6,
   "metadata": {},
   "outputs": [],
   "source": [
    "import pandas as pd\n",
    "import matplotlib.pyplot as plt\n",
    "import numpy as np"
   ]
  },
  {
   "cell_type": "code",
   "execution_count": 11,
   "metadata": {},
   "outputs": [],
   "source": [
    "demo = pd.read_csv(\"demoDetails.csv\", index_col = 0)\n",
    "ac = pd.read_csv(\"acDetails.txt\", sep = \"\\t\")\n",
    "service = pd.read_csv(\"serviceDetails.csv\", index_col = 0)"
   ]
  },
  {
   "cell_type": "markdown",
   "metadata": {},
   "source": [
    "Data Wrangling"
   ]
  },
  {
   "cell_type": "code",
   "execution_count": 13,
   "metadata": {},
   "outputs": [
    {
     "name": "stdout",
     "output_type": "stream",
     "text": [
      "250 250 250\n"
     ]
    }
   ],
   "source": [
    "#merging ac, demo and service\n",
    "#check for duplicates, cust_ID commonality\n",
    "cust_unique_demo = len(np.unique(demo['customerID']))\n",
    "cust_unique_ac = len(np.unique(ac['customerID']))\n",
    "cust_unique_service = len(np.unique(service['customerID']))\n",
    "print(cust_unique_demo, cust_unique_ac, cust_unique_service)"
   ]
  },
  {
   "cell_type": "code",
   "execution_count": 14,
   "metadata": {
    "scrolled": true
   },
   "outputs": [
    {
     "data": {
      "text/plain": [
       "0      False\n",
       "1      False\n",
       "2      False\n",
       "3      False\n",
       "4      False\n",
       "       ...  \n",
       "246    False\n",
       "247    False\n",
       "248    False\n",
       "249    False\n",
       "250     True\n",
       "Length: 251, dtype: bool"
      ]
     },
     "execution_count": 14,
     "metadata": {},
     "output_type": "execute_result"
    }
   ],
   "source": [
    "#there is one duplicated customerID in all 3 tables.\n",
    "#As there are 251 columns.\n",
    "\n",
    "#the duplicate is found using:\n",
    "#returns boolean of each unique customerID\n",
    "#keep takes \"first\", \"last\", \"False\"\n",
    "#first occurrence is treated as unique of duplicated recs.\n",
    "#last occurrence is treated as unique of duplicated recs.\n",
    "#False takes all occurrences of the same rec. value as duplicate\n",
    "demo.duplicated(subset = ['customerID'], keep = False)"
   ]
  },
  {
   "cell_type": "code",
   "execution_count": 15,
   "metadata": {},
   "outputs": [
    {
     "data": {
      "text/html": [
       "<div>\n",
       "<style scoped>\n",
       "    .dataframe tbody tr th:only-of-type {\n",
       "        vertical-align: middle;\n",
       "    }\n",
       "\n",
       "    .dataframe tbody tr th {\n",
       "        vertical-align: top;\n",
       "    }\n",
       "\n",
       "    .dataframe thead th {\n",
       "        text-align: right;\n",
       "    }\n",
       "</style>\n",
       "<table border=\"1\" class=\"dataframe\">\n",
       "  <thead>\n",
       "    <tr style=\"text-align: right;\">\n",
       "      <th></th>\n",
       "      <th>Unnamed: 0</th>\n",
       "      <th>customerID</th>\n",
       "      <th>PhoneService</th>\n",
       "      <th>MultipleLines</th>\n",
       "      <th>InternetService</th>\n",
       "      <th>OnlineSecurity</th>\n",
       "      <th>OnlineBackup</th>\n",
       "      <th>DeviceProtection</th>\n",
       "      <th>TechSupport</th>\n",
       "      <th>StreamingTV</th>\n",
       "      <th>StreamingMovies</th>\n",
       "      <th>Churn</th>\n",
       "    </tr>\n",
       "  </thead>\n",
       "  <tbody>\n",
       "    <tr>\n",
       "      <th>45</th>\n",
       "      <td>46</td>\n",
       "      <td>9067-SQTNS</td>\n",
       "      <td>Yes</td>\n",
       "      <td>No</td>\n",
       "      <td>No</td>\n",
       "      <td>Yes</td>\n",
       "      <td>Yes</td>\n",
       "      <td>No internet service</td>\n",
       "      <td>No internet service</td>\n",
       "      <td>Yes</td>\n",
       "      <td>No internet service</td>\n",
       "      <td>No</td>\n",
       "    </tr>\n",
       "    <tr>\n",
       "      <th>250</th>\n",
       "      <td>251</td>\n",
       "      <td>9067-SQTNS</td>\n",
       "      <td>Yes</td>\n",
       "      <td>No</td>\n",
       "      <td>No</td>\n",
       "      <td>Yes</td>\n",
       "      <td>Yes</td>\n",
       "      <td>No internet service</td>\n",
       "      <td>No internet service</td>\n",
       "      <td>Yes</td>\n",
       "      <td>No internet service</td>\n",
       "      <td>No</td>\n",
       "    </tr>\n",
       "  </tbody>\n",
       "</table>\n",
       "</div>"
      ],
      "text/plain": [
       "     Unnamed: 0  customerID PhoneService MultipleLines InternetService  \\\n",
       "45           46  9067-SQTNS          Yes            No              No   \n",
       "250         251  9067-SQTNS          Yes            No              No   \n",
       "\n",
       "    OnlineSecurity OnlineBackup     DeviceProtection          TechSupport  \\\n",
       "45             Yes          Yes  No internet service  No internet service   \n",
       "250            Yes          Yes  No internet service  No internet service   \n",
       "\n",
       "    StreamingTV      StreamingMovies Churn  \n",
       "45          Yes  No internet service    No  \n",
       "250         Yes  No internet service    No  "
      ]
     },
     "execution_count": 15,
     "metadata": {},
     "output_type": "execute_result"
    }
   ],
   "source": [
    "#gives only the subset of the table where it satisfies the condition inside i.e. duplication\n",
    "demo[demo.duplicated(subset = ['customerID'], keep = False)]\n",
    "ac[ac.duplicated(subset = ['customerID'], keep = False)]\n",
    "service[service.duplicated(subset = ['customerID'], keep = False)]\n",
    "\n",
    "#all 3 have the same duplicate record at 45 and 250"
   ]
  },
  {
   "cell_type": "code",
   "execution_count": 17,
   "metadata": {},
   "outputs": [],
   "source": [
    "#remove duplicates\n",
    "demo = demo.drop_duplicates()\n",
    "ac = ac.drop_duplicates()\n",
    "service = service.drop_duplicates()\n",
    "\n",
    "#FIRST OCCURRENCE IS KEPT AND THE OTHER OCCCURRENCES ARE DROPPED\n",
    "#Here, 45th record is kept."
   ]
  },
  {
   "cell_type": "code",
   "execution_count": 28,
   "metadata": {},
   "outputs": [
    {
     "data": {
      "text/plain": [
       "False"
      ]
     },
     "execution_count": 28,
     "metadata": {},
     "output_type": "execute_result"
    }
   ],
   "source": [
    "#whether cust_ID is common across all files?\n",
    "# using dataframe1.equals(dataframe2)\n",
    "ac.customerID.equals(demo.customerID)"
   ]
  },
  {
   "cell_type": "code",
   "execution_count": 29,
   "metadata": {},
   "outputs": [
    {
     "name": "stdout",
     "output_type": "stream",
     "text": [
      "<class 'pandas.core.frame.DataFrame'>\n",
      "Int64Index: 250 entries, 1 to 250\n",
      "Data columns (total 7 columns):\n",
      "customerID          250 non-null object\n",
      "tenure              250 non-null object\n",
      "Contract            250 non-null object\n",
      "PaperlessBilling    250 non-null object\n",
      "PaymentMethod       250 non-null object\n",
      "MonthlyCharges      240 non-null float64\n",
      "TotalCharges        235 non-null float64\n",
      "dtypes: float64(2), object(5)\n",
      "memory usage: 15.6+ KB\n"
     ]
    }
   ],
   "source": [
    "ac.info()"
   ]
  },
  {
   "cell_type": "code",
   "execution_count": 30,
   "metadata": {},
   "outputs": [
    {
     "name": "stdout",
     "output_type": "stream",
     "text": [
      "<class 'pandas.core.frame.DataFrame'>\n",
      "Int64Index: 250 entries, 0 to 249\n",
      "Data columns (total 6 columns):\n",
      "Unnamed: 0       250 non-null int64\n",
      "customerID       250 non-null object\n",
      "gender           250 non-null object\n",
      "SeniorCitizen    245 non-null float64\n",
      "Partner          250 non-null object\n",
      "Dependents       250 non-null object\n",
      "dtypes: float64(1), int64(1), object(4)\n",
      "memory usage: 13.7+ KB\n"
     ]
    }
   ],
   "source": [
    "demo.info()"
   ]
  },
  {
   "cell_type": "code",
   "execution_count": null,
   "metadata": {},
   "outputs": [],
   "source": []
  }
 ],
 "metadata": {
  "kernelspec": {
   "display_name": "Python 3",
   "language": "python",
   "name": "python3"
  },
  "language_info": {
   "codemirror_mode": {
    "name": "ipython",
    "version": 3
   },
   "file_extension": ".py",
   "mimetype": "text/x-python",
   "name": "python",
   "nbconvert_exporter": "python",
   "pygments_lexer": "ipython3",
   "version": "3.7.6"
  }
 },
 "nbformat": 4,
 "nbformat_minor": 2
}
