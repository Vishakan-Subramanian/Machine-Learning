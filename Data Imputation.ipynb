{
 "cells": [
  {
   "cell_type": "code",
   "execution_count": 1,
   "metadata": {},
   "outputs": [],
   "source": [
    "#Fill in Missing Values"
   ]
  },
  {
   "cell_type": "code",
   "execution_count": 5,
   "metadata": {},
   "outputs": [],
   "source": [
    "import os\n",
    "import pandas as pd\n",
    "import numpy as np"
   ]
  },
  {
   "cell_type": "code",
   "execution_count": 3,
   "metadata": {},
   "outputs": [],
   "source": [
    "os.chdir(\"Datasets\")\n",
    "data = pd.read_csv(\"GTPvar.csv\", index_col = 0)"
   ]
  },
  {
   "cell_type": "code",
   "execution_count": 4,
   "metadata": {},
   "outputs": [
    {
     "data": {
      "text/plain": [
       "1      0\n",
       "2      0\n",
       "3      0\n",
       "4      0\n",
       "5      3\n",
       "6      1\n",
       "7      1\n",
       "8      2\n",
       "9      1\n",
       "10     2\n",
       "11     0\n",
       "12     0\n",
       "13     1\n",
       "14     3\n",
       "15     0\n",
       "16     0\n",
       "17     0\n",
       "18     3\n",
       "19     0\n",
       "20     0\n",
       "21     0\n",
       "22     0\n",
       "23     0\n",
       "24     0\n",
       "25     0\n",
       "26     1\n",
       "27     0\n",
       "28     0\n",
       "29     0\n",
       "30     2\n",
       "      ..\n",
       "71     2\n",
       "72     1\n",
       "73     0\n",
       "74     1\n",
       "75     0\n",
       "76     0\n",
       "77     0\n",
       "78     0\n",
       "79     0\n",
       "80     4\n",
       "81     0\n",
       "82     0\n",
       "83     0\n",
       "84     0\n",
       "85     0\n",
       "86     0\n",
       "87     3\n",
       "88     0\n",
       "89     0\n",
       "90     0\n",
       "91     0\n",
       "92     0\n",
       "93     0\n",
       "94     4\n",
       "95     0\n",
       "96     0\n",
       "97     5\n",
       "98     0\n",
       "99     0\n",
       "100    0\n",
       "Length: 100, dtype: int64"
      ]
     },
     "execution_count": 4,
     "metadata": {},
     "output_type": "execute_result"
    }
   ],
   "source": [
    "data.isnull().sum(axis = 1) #checking for missing columns in each row"
   ]
  },
  {
   "cell_type": "code",
   "execution_count": 5,
   "metadata": {},
   "outputs": [
    {
     "data": {
      "text/plain": [
       "0    58\n",
       "1    18\n",
       "3    11\n",
       "2    10\n",
       "4     2\n",
       "5     1\n",
       "Name: NAPresent, dtype: int64"
      ]
     },
     "execution_count": 5,
     "metadata": {},
     "output_type": "execute_result"
    }
   ],
   "source": [
    "data['NAPresent'] = data.isnull().sum(axis = 1)  #adding a column to represent NA values\n",
    "data['NAPresent'].value_counts()"
   ]
  },
  {
   "cell_type": "code",
   "execution_count": 6,
   "metadata": {},
   "outputs": [],
   "source": [
    "#separating full records from missing val records\n",
    "df = data[data.NAPresent == 0]\n",
    "df = df.drop('NAPresent', axis = 1)"
   ]
  },
  {
   "cell_type": "code",
   "execution_count": 7,
   "metadata": {},
   "outputs": [],
   "source": [
    "#convert to numpy array, as we want to work with it as a matrix\n",
    "df_mat = df.to_numpy()"
   ]
  },
  {
   "cell_type": "code",
   "execution_count": 8,
   "metadata": {},
   "outputs": [
    {
     "data": {
      "text/plain": [
       "5"
      ]
     },
     "execution_count": 8,
     "metadata": {},
     "output_type": "execute_result"
    }
   ],
   "source": [
    "np.linalg.matrix_rank(df_mat) #finding rank of matrix"
   ]
  },
  {
   "cell_type": "code",
   "execution_count": 9,
   "metadata": {},
   "outputs": [],
   "source": [
    "#validating the rank (to check if it is correct)\n",
    "v, s, u = np.linalg.svd(df_mat.T) #svd is the method to find the rank above"
   ]
  },
  {
   "cell_type": "code",
   "execution_count": 12,
   "metadata": {},
   "outputs": [
    {
     "name": "stdout",
     "output_type": "stream",
     "text": [
      "5\n"
     ]
    }
   ],
   "source": [
    "print(len(s))"
   ]
  },
  {
   "cell_type": "code",
   "execution_count": 13,
   "metadata": {},
   "outputs": [
    {
     "name": "stdout",
     "output_type": "stream",
     "text": [
      "[1.96033304e+01 2.28167354e+00 2.42447585e-10 2.13787501e-10\n",
      " 1.94320280e-10]\n"
     ]
    }
   ],
   "source": [
    "print(s)\n",
    "# s : eigenvalues of the matrix, it has 2 good values and 3 very low, almost 0 values, therefore rank should\n",
    "#actually be 2, not 5, as they're very small"
   ]
  },
  {
   "cell_type": "code",
   "execution_count": 14,
   "metadata": {},
   "outputs": [],
   "source": [
    "#setting a tolerance\n",
    "tol = 1e-8\n",
    "\n",
    "#removing columns lesser than tolerance\n",
    "rank = min(df_mat.shape)-np.abs(s)[::-1].searchsorted(tol)"
   ]
  },
  {
   "cell_type": "code",
   "execution_count": 15,
   "metadata": {},
   "outputs": [
    {
     "name": "stdout",
     "output_type": "stream",
     "text": [
      "[[-0.07730698  0.34050231 -0.67413398  0.6508402   0.00567558]\n",
      " [ 0.48476979  0.37806431  0.51469795  0.39680398 -0.4468761 ]\n",
      " [ 0.55057871 -0.75530287 -0.13744801  0.31747114  0.0818582 ]]\n"
     ]
    }
   ],
   "source": [
    "#choosing Null Space Relation\n",
    "A = v[:,rank:] #choosing the last 3 of the v array, as the last 3 eigenvalues are only almost zero. Therefore\n",
    "#those eigenvectors (v) belong to the null space, as per theory\n",
    "A = A.T\n",
    "print(A)"
   ]
  },
  {
   "cell_type": "code",
   "execution_count": 16,
   "metadata": {},
   "outputs": [],
   "source": [
    "#now, we have 3 equations\n",
    "#thus, we can impute values for rows which have atmost 3 missing values\n",
    "#4 or 5 missing value rows need to be discarded (here), or computed using pseudo - inverse algorithm\n",
    "\n",
    "#Task:\n",
    "#find the no. of NAs per row\n",
    "#consider only as many equations(rows of A) as no. of NAs\n",
    "#check which fields have NAs. Those fields are our local 'a' matrix, which hold indices of missing locations\n",
    "#rest constitute the constant term when multiplied by the corresponding eigen vector\n",
    "#that is A X = B format"
   ]
  },
  {
   "cell_type": "code",
   "execution_count": 17,
   "metadata": {},
   "outputs": [
    {
     "data": {
      "text/plain": [
       "100"
      ]
     },
     "execution_count": 17,
     "metadata": {},
     "output_type": "execute_result"
    }
   ],
   "source": [
    "len(data)"
   ]
  },
  {
   "cell_type": "code",
   "execution_count": 18,
   "metadata": {},
   "outputs": [
    {
     "data": {
      "text/plain": [
       "3"
      ]
     },
     "execution_count": 18,
     "metadata": {},
     "output_type": "execute_result"
    }
   ],
   "source": [
    "len(A)"
   ]
  },
  {
   "cell_type": "code",
   "execution_count": 20,
   "metadata": {},
   "outputs": [],
   "source": [
    "for i in range(0, len(data)):\n",
    "    if((data.iloc[i,5]==0) | (data.iloc[i,5]>len(A))):\n",
    "        continue #excluding >3 missing values or 0 missing values\n",
    "    else:\n",
    "        eqnsneeded = data.iloc[i,5]\n",
    "        aID = np.empty(0, dtype = \"int64\")\n",
    "        bID = np.empty(0, dtype = \"int64\")\n",
    "        for j in range(len(data.columns) - 1):\n",
    "            if(pd.isnull(data.iloc[i,j])):\n",
    "                aID = np.append(aID, j) #filling missing indices for 'a'\n",
    "            else:\n",
    "                bID = np.append(bID, j) #filling constant(known) indices for 'b'\n",
    "            \n",
    "        a = A[0:eqnsneeded, aID] #accessing as many co-efficients needed from A as per no. of eqns needed\n",
    "        a = np.array(a)\n",
    "            \n",
    "        x1 = ((data.iloc[i,bID].to_numpy()))\n",
    "        b2 = -A[0:eqnsneeded, bID]\n",
    "        b  = np.dot(b2,x1)\n",
    "        x  = np.linalg.solve(a,b) #solving ax = b\n",
    "        data.iloc[i,aID] = x #filling those missing values in the respective row with the ones found from the \n",
    "            #null space relation by solving for AX = B"
   ]
  },
  {
   "cell_type": "code",
   "execution_count": 21,
   "metadata": {},
   "outputs": [
    {
     "name": "stdout",
     "output_type": "stream",
     "text": [
      "           F1        F2        F3        F4        F5  NAPresent\n",
      "1    0.266066  0.558480  0.894119  0.644930  2.363595          0\n",
      "2    0.552035  0.666928  0.616492  0.336270  2.171725          0\n",
      "3    0.476539  0.634680  0.680674  0.410387  2.202279          0\n",
      "4    0.670965  0.804444  0.733776  0.396153  2.605338          0\n",
      "5    0.480306  0.731702  0.917772  0.601049  2.730830          3\n",
      "6    0.726267  0.781446  0.569351  0.246897  2.323960          1\n",
      "7    0.633964  0.715634  0.581369  0.283764  2.214731          1\n",
      "8    0.550642  0.698550  0.698817  0.403266  2.351275          2\n",
      "9    0.478420  0.589715  0.563806  0.315308  1.947248          1\n",
      "10   0.477733  0.635127  0.679502  0.409087  2.201449          2\n",
      "11   0.499508  0.582892  0.506011  0.262359  1.850770          0\n",
      "12   0.717392  0.814883  0.670655  0.331444  2.534374          0\n",
      "13   0.337443  0.636942  0.954262  0.672582  2.601228          1\n",
      "14   0.746236  0.793220  0.560543  0.233899  2.333898          3\n",
      "15   0.276671  0.558349  0.873366  0.625025  2.333410          0\n",
      "16   0.490868  0.735828  0.907823  0.589896  2.724414          0\n",
      "17   0.751159  0.811230  0.596421  0.261470  2.420279          0\n",
      "18   0.548782  0.641264  0.558122  0.290016  2.038184          3\n",
      "19   0.796225  0.853869  0.617015  0.264872  2.531981          0\n",
      "20   0.892610  0.920741  0.599804  0.222603  2.635758          0\n",
      "21   0.243307  0.482052  0.745466  0.531389  2.002215          0\n",
      "22   0.215718  0.508677  0.865656  0.636716  2.226767          0\n",
      "23   0.555789  0.668765  0.613887  0.333059  2.171500          0\n",
      "24   0.204296  0.471312  0.793550  0.581755  2.050913          0\n",
      "25   0.196303  0.500517  0.882495  0.656046  2.235361          0\n",
      "26   0.329647  0.592777  0.858044  0.597051  2.377519          1\n",
      "27   0.127700  0.451747  0.891791  0.683743  2.154982          0\n",
      "28   0.322058  0.530599  0.716063  0.484445  2.053165          0\n",
      "29   0.485387  0.629926  0.651661  0.384318  2.151292          0\n",
      "30   0.677077  0.742673  0.566436  0.259007  2.245193          2\n",
      "..        ...       ...       ...       ...       ...        ...\n",
      "71   0.312921  0.621048  0.961458  0.685615  2.581041          2\n",
      "72   0.540857  0.632374  0.550996  0.286583  2.010810          1\n",
      "73   0.441615  0.636870  0.753452  0.479522  2.311460          0\n",
      "74   0.650485  0.771907  0.691277  0.367802  2.481472          1\n",
      "75   0.162150  0.474891  0.883731  0.667092  2.187864          0\n",
      "76   0.581602  0.610183  0.416636  0.165926  1.774347          0\n",
      "77   0.376439  0.655482  0.925851  0.638133  2.595904          0\n",
      "78   0.776766  0.797968  0.513704  0.187035  2.275473          0\n",
      "79   0.741001  0.824299  0.648900  0.306904  2.521105          0\n",
      "80        NaN       NaN  0.564247       NaN       NaN          4\n",
      "81   0.484126  0.642462  0.685661  0.412189  2.224437          0\n",
      "82   0.465331  0.664051  0.776232  0.490973  2.396586          0\n",
      "83   0.615795  0.669209  0.499439  0.222842  2.007285          0\n",
      "84   0.283333  0.560799  0.866704  0.617678  2.328514          0\n",
      "85   0.428907  0.551640  0.563274  0.329440  1.873261          0\n",
      "86   0.292443  0.615938  0.988026  0.713126  2.609533          0\n",
      "87   0.587276  0.730251  0.708101  0.400001  2.425629          3\n",
      "88   0.295389  0.551533  0.820149  0.576476  2.243547          0\n",
      "89   0.310135  0.620026  0.964250  0.688692  2.583103          0\n",
      "90   0.096549  0.389484  0.794975  0.614598  1.895606          0\n",
      "91   0.629901  0.726423  0.616366  0.313267  2.285956          0\n",
      "92   0.260437  0.539947  0.858284  0.617601  2.276270          0\n",
      "93   0.605925  0.663583  0.504278  0.229659  2.003445          0\n",
      "94        NaN  0.423109       NaN       NaN       NaN          4\n",
      "95   0.550771  0.717653  0.746677  0.441939  2.457040          0\n",
      "96   0.706257  0.822771  0.711967  0.368133  2.609127          0\n",
      "97        NaN       NaN       NaN       NaN       NaN          5\n",
      "98   0.752162  0.822688  0.623347  0.282953  2.481151          0\n",
      "99   0.534682  0.709351  0.756756  0.454822  2.455610          0\n",
      "100  0.682922  0.726436  0.514285  0.215106  2.138749          0\n",
      "\n",
      "[100 rows x 6 columns]\n"
     ]
    }
   ],
   "source": [
    "print(data)"
   ]
  },
  {
   "cell_type": "code",
   "execution_count": 24,
   "metadata": {},
   "outputs": [
    {
     "name": "stdout",
     "output_type": "stream",
     "text": [
      "<class 'pandas.core.frame.DataFrame'>\n",
      "Int64Index: 100 entries, 1 to 100\n",
      "Data columns (total 6 columns):\n",
      "F1           97 non-null float64\n",
      "F2           98 non-null float64\n",
      "F3           98 non-null float64\n",
      "F4           97 non-null float64\n",
      "F5           97 non-null float64\n",
      "NAPresent    100 non-null int64\n",
      "dtypes: float64(5), int64(1)\n",
      "memory usage: 10.5 KB\n"
     ]
    }
   ],
   "source": [
    "data.info()"
   ]
  },
  {
   "cell_type": "code",
   "execution_count": 1,
   "metadata": {},
   "outputs": [],
   "source": [
    "#test workout"
   ]
  },
  {
   "cell_type": "code",
   "execution_count": 16,
   "metadata": {},
   "outputs": [
    {
     "name": "stdout",
     "output_type": "stream",
     "text": [
      "4\n",
      "[[-0.26155586 -0.10136075  0.36374373 -0.88825955]\n",
      " [-0.35413309 -0.59986971 -0.70783255 -0.11712885]\n",
      " [-0.73737018  0.64517808 -0.18881252  0.06618379]\n",
      " [-0.51231193 -0.46219862  0.57533765  0.43919871]]\n"
     ]
    }
   ],
   "source": [
    "A = [[4,5,16,7],[2,-3,2,3],[3,4,5,6],[4,7,8,9]]\n",
    "A = np.asarray(A, dtype = 'int64')\n",
    "rank = np.linalg.matrix_rank(A)\n",
    "print(rank)\n",
    "\n",
    "u, s, v = np.linalg.svd(A.T)\n",
    "print(u)"
   ]
  },
  {
   "cell_type": "code",
   "execution_count": 18,
   "metadata": {},
   "outputs": [],
   "source": [
    "A = [[1,0,-1,2], [0, 3 , 1 , -1], [2, 4, 0, 3], [-3, 1, -1, 2]]\n",
    "B = [[1,2], [3, -1], [0, -1], [4,2]]\n",
    "C = [[3, 8, 0, 5], [1, 0, -4, 8]]\n",
    "A = np.asarray(A, dtype = 'int64')\n",
    "B = np.asarray(B, dtype = 'int64')\n",
    "C = np.asarray(C, dtype = 'int64')"
   ]
  },
  {
   "cell_type": "code",
   "execution_count": 20,
   "metadata": {},
   "outputs": [
    {
     "name": "stdout",
     "output_type": "stream",
     "text": [
      "[[107 -37]\n",
      " [-31 -33]]\n"
     ]
    }
   ],
   "source": [
    "D = np.dot(C,A)\n",
    "D = np.dot(D,B)\n",
    "print(D)"
   ]
  },
  {
   "cell_type": "code",
   "execution_count": 24,
   "metadata": {},
   "outputs": [
    {
     "name": "stdout",
     "output_type": "stream",
     "text": [
      "115506.00000000006\n"
     ]
    }
   ],
   "source": [
    "Z = [[-2, 32, 24], [92, 66, 25], [-80, 37, 10]]\n",
    "Z = np.asarray(Z, dtype = 'int64')\n",
    "print(np.linalg.det(Z))"
   ]
  },
  {
   "cell_type": "code",
   "execution_count": 38,
   "metadata": {},
   "outputs": [
    {
     "name": "stdout",
     "output_type": "stream",
     "text": [
      "[[1.20095990e+16 6.00479950e+15 1.80143985e+16]\n",
      " [6.00479950e+15 0.00000000e+00 6.00479950e+15]\n",
      " [1.20095990e+16 6.00479950e+15 1.80143985e+16]]\n",
      "1.665334536937729e-16\n"
     ]
    }
   ],
   "source": [
    "P = [[2,1,2], [1,0,1], [3,1,3]]\n",
    "P = np.asarray(P, dtype = 'int64')\n",
    "print(np.matrix.getH(P)/np.linalg.det(P))\n",
    "print(np.linalg.det(P))"
   ]
  },
  {
   "cell_type": "code",
   "execution_count": 50,
   "metadata": {},
   "outputs": [
    {
     "name": "stdout",
     "output_type": "stream",
     "text": [
      "B det:  -12.0\n",
      "C det:  -0.08333333333333333\n",
      "Inv of C det:  -12.0\n",
      "[-1.  4.  3.] [[-0.9486833  -0.89442719 -0.92055301]\n",
      " [ 0.31622777 -0.4472136  -0.33915111]\n",
      " [ 0.          0.          0.19380063]]\n"
     ]
    }
   ],
   "source": [
    "import math\n",
    "A = [[1,6,1],[1,2,3],[0,0,3]]\n",
    "A = np.asarray(A, dtype = 'int64')\n",
    "B = A.T\n",
    "C = np.linalg.inv(A)\n",
    "print(\"B det: \",np.linalg.det(B))\n",
    "print(\"C det: \",np.linalg.det(C))\n",
    "print(\"Inv of C det: \",math.pow(np.linalg.det(C), -1))\n",
    "w,v = np.linalg.eig(A)\n",
    "print(w,v)"
   ]
  },
  {
   "cell_type": "code",
   "execution_count": 60,
   "metadata": {},
   "outputs": [
    {
     "name": "stdout",
     "output_type": "stream",
     "text": [
      "0\n"
     ]
    }
   ],
   "source": [
    "v = [5, -2, 3]\n",
    "w = [-2, 4, 6]\n",
    "v = np.asarray(v, dtype = 'int64')\n",
    "w = np.asarray(w, dtype = 'int64')\n",
    "print(v.dot(w.T))"
   ]
  },
  {
   "cell_type": "code",
   "execution_count": null,
   "metadata": {},
   "outputs": [],
   "source": []
  },
  {
   "cell_type": "code",
   "execution_count": null,
   "metadata": {},
   "outputs": [],
   "source": []
  }
 ],
 "metadata": {
  "kernelspec": {
   "display_name": "Python 3",
   "language": "python",
   "name": "python3"
  },
  "language_info": {
   "codemirror_mode": {
    "name": "ipython",
    "version": 3
   },
   "file_extension": ".py",
   "mimetype": "text/x-python",
   "name": "python",
   "nbconvert_exporter": "python",
   "pygments_lexer": "ipython3",
   "version": "3.7.6"
  }
 },
 "nbformat": 4,
 "nbformat_minor": 2
}
