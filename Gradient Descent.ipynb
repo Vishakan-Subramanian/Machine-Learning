{
 "cells": [
  {
   "cell_type": "code",
   "execution_count": 1,
   "metadata": {},
   "outputs": [],
   "source": [
    "#Binary Classification"
   ]
  },
  {
   "cell_type": "code",
   "execution_count": 3,
   "metadata": {},
   "outputs": [],
   "source": [
    "import os\n",
    "import numpy as np\n",
    "import matplotlib.pyplot as plt\n",
    "import pandas as pd\n",
    "\n",
    "os.chdir('Datasets')"
   ]
  },
  {
   "cell_type": "code",
   "execution_count": 3,
   "metadata": {},
   "outputs": [
    {
     "name": "stdout",
     "output_type": "stream",
     "text": [
      "    Test     X1     X2     X3      X4      X5 Result\n",
      "0     T1  57.00  65.00  85.07  104.67  115.02   Pass\n",
      "1     T2  57.00  64.94  85.44  105.00  113.87   Pass\n",
      "2     T3  22.00  13.00  18.95   18.00   29.55   Fail\n",
      "3     T4  26.87  14.19  24.00   18.00   29.00   Fail\n",
      "4     T5  57.50  63.95  87.00  101.98  115.00   Pass\n",
      "..   ...    ...    ...    ...     ...     ...    ...\n",
      "95   T96  57.00  65.50  89.34  105.80  115.00   Pass\n",
      "96   T97  55.11  65.98  87.28  105.00  115.00   Pass\n",
      "97   T98  16.00  13.00  13.34   17.94   29.00   Fail\n",
      "98   T99  21.17  11.15  16.00   18.00   28.00   Fail\n",
      "99  T100  59.41  66.35  87.00  105.63  115.00   Pass\n",
      "\n",
      "[100 rows x 7 columns]   Unnamed: 0     X1     X2     X3      X4      X5\n",
      "0       FD01  53.32  65.00  87.80  104.46  115.00\n",
      "1       FD02  57.00  68.13  88.19  105.79  115.00\n",
      "2       BM01  57.00  65.00  86.67  106.23  115.52\n",
      "3       FD03  24.18  10.85  16.00   20.00   29.00\n",
      "4       BM02  23.00  14.78  15.00   24.85   29.00\n",
      "5       BM03  23.00  12.00  16.00   14.57   24.92\n",
      "6       FD04  57.00  63.05  87.00  105.01  117.69\n",
      "7       FD05  55.77  65.00  85.13  104.09  115.00\n",
      "8       BM04  17.11  15.00   9.02   18.00   29.00\n",
      "9       BM05  23.00  11.85  24.53   18.00   29.00\n"
     ]
    }
   ],
   "source": [
    "train_data = pd.read_csv(\"engineTest.csv\")\n",
    "test_data = pd.read_csv(\"engineTestCheck.csv\")\n",
    "\n",
    "print(train_data, test_data)"
   ]
  },
  {
   "cell_type": "code",
   "execution_count": 4,
   "metadata": {},
   "outputs": [
    {
     "data": {
      "text/plain": [
       "Fail    51\n",
       "Pass    49\n",
       "Name: Result, dtype: int64"
      ]
     },
     "execution_count": 4,
     "metadata": {},
     "output_type": "execute_result"
    }
   ],
   "source": [
    "train_data['Result'].value_counts()"
   ]
  },
  {
   "cell_type": "code",
   "execution_count": 5,
   "metadata": {},
   "outputs": [],
   "source": [
    "#x1 and x2 are used for optimization to represent result graphically\n",
    "#adding x0 as the intercept for the line\n",
    "# ax1 + bx2 + c = 0\n",
    "#intercept is x0 = 1 by default\n",
    "traindata1 = pd.DataFrame({'X0' : np.repeat(1, len(train_data))})\n",
    "traindata1[['X1', 'X2', 'Result']] = train_data[['X1', 'X2', 'Result']]"
   ]
  },
  {
   "cell_type": "code",
   "execution_count": 24,
   "metadata": {},
   "outputs": [],
   "source": [
    "def plotClassifier(traindata1, n_k, grouper):\n",
    "    grouped_data = traindata1.groupby(by = grouper)\n",
    "    for key in grouped_data.groups.keys():\n",
    "        data = grouped_data.get_group(key)\n",
    "        x = data['X1']\n",
    "        y = data['X2']\n",
    "        plt.scatter(x, y, label = key)\n",
    "        plt.xlim(0, 80)\n",
    "        plt.ylim(-5, 80)\n",
    "        plt.legend()\n",
    "                \n",
    "        slope = -1*n_k[1]/n_k[2]  # -a/b\n",
    "        intercept = -1*n_k[0]/n_k[2] # -c/b\n",
    "        X = np.arange(80)\n",
    "        Y = slope * X + intercept\n",
    "        plt.plot(X,Y, c = \"red\")\n",
    "    plt.show()"
   ]
  },
  {
   "cell_type": "code",
   "execution_count": 25,
   "metadata": {},
   "outputs": [
    {
     "data": {
      "image/png": "[encoded data removed]",
      "text/plain": [
       "<Figure size 432x288 with 1 Axes>"
      ]
     },
     "metadata": {
      "needs_background": "light"
     },
     "output_type": "display_data"
    }
   ],
   "source": [
    "# ax1 + bx2 + c =0\n",
    "#slope : -a/b\n",
    "#intercept : -c/b\n",
    "#n_k = [c, a, b]\n",
    "\n",
    "\n",
    "#guess values\n",
    "n_k = np.repeat(10,3)\n",
    "n_kprev = np.repeat(10,3) #for update purposes\n",
    "\n",
    "#step length\n",
    "alpha = 0.1\n",
    "\n",
    "#if all samples meet necessary conditions\n",
    "updateCounter = True\n",
    "\n",
    "#classification criteria\n",
    "maxIterations = 2000\n",
    "i = 1\n",
    "\n",
    "#grouping train_data accdn. to result\n",
    "\n",
    "plotClassifier(traindata1, n_k, \"Result\")"
   ]
  },
  {
   "cell_type": "code",
   "execution_count": 26,
   "metadata": {},
   "outputs": [
    {
     "data": {
      "image/png": "[encoded data removed]",
      "text/plain": [
       "<Figure size 432x288 with 1 Axes>"
      ]
     },
     "metadata": {
      "needs_background": "light"
     },
     "output_type": "display_data"
    },
    {
     "name": "stdout",
     "output_type": "stream",
     "text": [
      "2\n",
      "[9.200000000000003 -5.236000000000002 5.561999999999999]\n"
     ]
    }
   ],
   "source": [
    "#GRADIENT DESCENT!!!!!\n",
    "\n",
    "iteration = 0\n",
    "\n",
    "n_k = np.repeat(10,3)\n",
    "n_kprev = np.repeat(10,3)\n",
    "updateCounter = True\n",
    "grouper = 'Result'\n",
    "\n",
    "while updateCounter and iteration < maxIterations:\n",
    "    updateCounter = False\n",
    "    for i in range(len(traindata1)):\n",
    "        n_kprev = n_k\n",
    "        \n",
    "        pred = np.array(traindata1.iloc[i,0:3]).dot(n_k) #performing n (X ^T) = 0 (i.e ax1 + bx2 + c = 0 check)\n",
    "        #print(pred)\n",
    "        \n",
    "        if(traindata1.Result[i] == \"Pass\" and pred < 0): #problem! it should go opposite\n",
    "            #to check if Passed samples are properly classified\n",
    "            \n",
    "            n_k = n_kprev + alpha * ((np.array(traindata1.iloc[i,0:3])).T) #add\n",
    "            updateCounter = True\n",
    "            #eqn modified\n",
    "        \n",
    "        elif(traindata1.Result[i] == \"Fail\" and pred > 0): #problem! it should go opposite\n",
    "            #to check if Failed samples are properly classified\n",
    "            \n",
    "            n_k = n_kprev - alpha * ((np.array(traindata1.iloc[i,0:3])).T) #subtract\n",
    "            updateCounter = True\n",
    "            #eqn modified\n",
    "        \n",
    "        else:\n",
    "            continue\n",
    "        \n",
    "        \n",
    "        if(i%15 == 0 and iteration <= 2): #plotting and checking for every 15 iterations\n",
    "           plotClassifier(traindata1, n_k, grouper)\n",
    "         \n",
    "    iteration = iteration + 1\n",
    "        \n",
    "print(iteration)\n",
    "print(n_k)"
   ]
  },
  {
   "cell_type": "code",
   "execution_count": 27,
   "metadata": {},
   "outputs": [
    {
     "data": {
      "image/png": "[encoded data removed]",
      "text/plain": [
       "<Figure size 432x288 with 1 Axes>"
      ]
     },
     "metadata": {
      "needs_background": "light"
     },
     "output_type": "display_data"
    }
   ],
   "source": [
    "plotClassifier(traindata1, n_k, grouper)"
   ]
  },
  {
   "cell_type": "code",
   "execution_count": 18,
   "metadata": {},
   "outputs": [
    {
     "data": {
      "text/plain": [
       "Index(['Unnamed: 0', 'X1', 'X2', 'X3', 'X4', 'X5'], dtype='object')"
      ]
     },
     "execution_count": 18,
     "metadata": {},
     "output_type": "execute_result"
    }
   ],
   "source": [
    "test_data.columns"
   ]
  },
  {
   "cell_type": "code",
   "execution_count": 28,
   "metadata": {},
   "outputs": [
    {
     "data": {
      "image/png": "[encoded data removed]",
      "text/plain": [
       "<Figure size 432x288 with 1 Axes>"
      ]
     },
     "metadata": {
      "needs_background": "light"
     },
     "output_type": "display_data"
    }
   ],
   "source": [
    "testdata1 = pd.DataFrame({'X0' : np.repeat(1, len(test_data))})\n",
    "testdata1[['Engine', 'X1', 'X2']] = test_data[['Unnamed: 0', 'X1', 'X2']]\n",
    "\n",
    "testdata1.sort_index(axis = 1, inplace = True)\n",
    "\n",
    "testresult = np.array(testdata1.iloc[:, 1:4]).dot(n_k)\n",
    "testdata1['Test Result'] = testresult\n",
    "\n",
    "testdata1['Predicted Result'] = np.where(testdata1['Test Result'] > 0, \"Pass\", \"Fail\")\n",
    "\n",
    "grouper = 'Predicted Result'\n",
    "plotClassifier(testdata1, n_k, grouper)"
   ]
  },
  {
   "cell_type": "code",
   "execution_count": 1,
   "metadata": {},
   "outputs": [],
   "source": [
    "#Inference, Here a point lying very near the line is classified as Pass, cause we classify based on which side it is lying\n",
    "#Magnitude of distance from line should also be considered for pass fail criteria"
   ]
  },
  {
   "cell_type": "code",
   "execution_count": null,
   "metadata": {},
   "outputs": [],
   "source": []
  },
  {
   "cell_type": "code",
   "execution_count": 7,
   "metadata": {},
   "outputs": [
    {
     "name": "stdout",
     "output_type": "stream",
     "text": [
      "[-6.32455532  6.32455532]\n"
     ]
    }
   ],
   "source": [
    "#Test workout\n",
    "b = [[-6,2], [2,6]]\n",
    "a = np.array(b)\n",
    "w,v = np.linalg.eig(a)\n",
    "print(w)"
   ]
  }
 ],
 "metadata": {
  "kernelspec": {
   "display_name": "Python 3",
   "language": "python",
   "name": "python3"
  },
  "language_info": {
   "codemirror_mode": {
    "name": "ipython",
    "version": 3
   },
   "file_extension": ".py",
   "mimetype": "text/x-python",
   "name": "python",
   "nbconvert_exporter": "python",
   "pygments_lexer": "ipython3",
   "version": "3.7.6"
  }
 },
 "nbformat": 4,
 "nbformat_minor": 2
}
