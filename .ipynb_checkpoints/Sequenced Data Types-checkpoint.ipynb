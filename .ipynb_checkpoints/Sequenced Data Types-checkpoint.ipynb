{
 "cells": [
  {
   "cell_type": "code",
   "execution_count": 1,
   "metadata": {},
   "outputs": [
    {
     "name": "stdout",
     "output_type": "stream",
     "text": [
      "[1, 2, 3, 'yay', 3, 3]\n"
     ]
    }
   ],
   "source": [
    "list = [1,2,3,\"yay\",3,3]\n",
    "print(list)"
   ]
  },
  {
   "cell_type": "code",
   "execution_count": 7,
   "metadata": {},
   "outputs": [
    {
     "name": "stdout",
     "output_type": "stream",
     "text": [
      "{1, 2, 3}\n",
      "{'i', 'n', 'a', 'v', 's', 'h', 'k'}\n"
     ]
    }
   ],
   "source": [
    "#holds non-sequential data\n",
    "sets = {1,2,3,3,3} #no duplicate elements\n",
    "print(sets)\n",
    "\n",
    "sample = set(\"vishakan\")\n",
    "print(sample)"
   ]
  },
  {
   "cell_type": "code",
   "execution_count": 3,
   "metadata": {},
   "outputs": [
    {
     "name": "stdout",
     "output_type": "stream",
     "text": [
      "(1, 2, 3, 3, 4, 4)\n",
      "('yay', 'yo', 'pencil')\n"
     ]
    }
   ],
   "source": [
    "tuple = (1,2,3,3,4,4)\n",
    "print(tuple)\n",
    "tup = \"yay\", \"yo\", \"pencil\" #tuple packing\n",
    "print(tup)"
   ]
  },
  {
   "cell_type": "code",
   "execution_count": 4,
   "metadata": {},
   "outputs": [
    {
     "name": "stdout",
     "output_type": "stream",
     "text": [
      "vaa da nallavane\n"
     ]
    }
   ],
   "source": [
    "string = \"vaa da nallavane\"\n",
    "print(string)"
   ]
  },
  {
   "cell_type": "code",
   "execution_count": 5,
   "metadata": {},
   "outputs": [
    {
     "name": "stdout",
     "output_type": "stream",
     "text": [
      "array('i', [1, 2, 3, 4, 5, 6])\n",
      "1\n",
      "2\n",
      "3\n",
      "4\n",
      "5\n",
      "6\n"
     ]
    }
   ],
   "source": [
    "#array is a sequenced list stored in contiguous memory\n",
    "#needs to be imported to be used in python\n",
    "#is a module in python\n",
    "#array() takes argument 'i' : integer data types, and a list of compatible values\n",
    "#similarly 'd', 'f' : float, 'l' : int, \"u\" : unicode etc.\n",
    "from array import *\n",
    "arr = array(\"i\",[1,2,3,4,5,6])\n",
    "print(arr)\n",
    "for i in arr:\n",
    "    print(i)\n"
   ]
  },
  {
   "cell_type": "code",
   "execution_count": 6,
   "metadata": {},
   "outputs": [
    {
     "name": "stdout",
     "output_type": "stream",
     "text": [
      "{1: 'key', 2: 'and', 3: 'value', 4: 'pairs'}\n",
      "key\n",
      "{'x': 5, 'y': -5}\n"
     ]
    }
   ],
   "source": [
    "#keys are unique and immutable datatypes\n",
    "#unordered dataset\n",
    "#values can be repeating\n",
    "dicti = {1:\"key\", 2:\"and\", 3:\"value\", 4:\"pairs\"}\n",
    "print(dicti)\n",
    "print(dicti[1])\n",
    "#print(dicti[5]) does not exist \n",
    "\n",
    "newdict = dict([('x', 5), ('y', -5)])\n",
    "print(newdict)"
   ]
  },
  {
   "cell_type": "code",
   "execution_count": 9,
   "metadata": {},
   "outputs": [
    {
     "name": "stdout",
     "output_type": "stream",
     "text": [
      "range(1, 12, 4)\n",
      "False\n"
     ]
    }
   ],
   "source": [
    "rangesamp = range(1,12,4)\n",
    "print(rangesamp)\n",
    "print(3 in rangesamp)"
   ]
  },
  {
   "cell_type": "code",
   "execution_count": 18,
   "metadata": {},
   "outputs": [
    {
     "name": "stdout",
     "output_type": "stream",
     "text": [
      "1\n",
      "3\n",
      "t\n"
     ]
    }
   ],
   "source": [
    "#string indexing\n",
    "strsample = \"python\"\n",
    "print(strsample.index('y'))\n",
    "print(strsample.index('hon'))\n",
    "print(strsample[-4])\n",
    "# print(strsample.index('q')) ValueError Not Found"
   ]
  },
  {
   "cell_type": "code",
   "execution_count": 21,
   "metadata": {},
   "outputs": [
    {
     "name": "stdout",
     "output_type": "stream",
     "text": [
      "3\n",
      "sam\n",
      "sam\n"
     ]
    }
   ],
   "source": [
    "#list indexing\n",
    "lst = [1,2,'a','sam',2]\n",
    "print(lst.index('sam'),lst[3],lst[-2],sep=\"\\n\")"
   ]
  },
  {
   "cell_type": "code",
   "execution_count": 25,
   "metadata": {},
   "outputs": [
    {
     "name": "stdout",
     "output_type": "stream",
     "text": [
      "array('i', [1, 2, 3, 4, 5, 6])\n",
      "4\n",
      "3\n"
     ]
    }
   ],
   "source": [
    "#array indexing\n",
    "from array import *\n",
    "samp = array('i',[1,2,3,4,5,6])\n",
    "print(samp)\n",
    "print(samp[-3],samp[2],sep=\"\\n\")"
   ]
  },
  {
   "cell_type": "code",
   "execution_count": 26,
   "metadata": {},
   "outputs": [
    {
     "name": "stdout",
     "output_type": "stream",
     "text": [
      "a\n"
     ]
    }
   ],
   "source": [
    "#tuple indexing\n",
    "tup = 1,2,3,'a','b','c'\n",
    "print(tup[3])"
   ]
  },
  {
   "cell_type": "code",
   "execution_count": 27,
   "metadata": {},
   "outputs": [
    {
     "name": "stdout",
     "output_type": "stream",
     "text": [
      "{1, 2, 3, 4, 5, 6}\n"
     ]
    }
   ],
   "source": [
    "setsamp = {1,2,3,4,4,5,6,6}\n",
    "print(setsamp)\n",
    "# print(setsamp[4]) TypeError. Set Does not support indexing. "
   ]
  },
  {
   "cell_type": "code",
   "execution_count": 32,
   "metadata": {},
   "outputs": [
    {
     "name": "stdout",
     "output_type": "stream",
     "text": [
      "{1: 'key', 2: 'and', 3: 'value', 4: 'pairs', 'bang': 5}\n",
      "and\n",
      "pairs\n",
      "5\n"
     ]
    }
   ],
   "source": [
    "#dict indexing\n",
    "dicti = {1:\"key\", 2:\"and\", 3:\"value\", 4:\"pairs\", \"bang\": 5}\n",
    "print(dicti, dicti[2], dicti[4],sep=\"\\n\")\n",
    "print(dicti[\"bang\"])\n",
    "# print(dicti[5]) Key Error. Does not Exist."
   ]
  },
  {
   "cell_type": "code",
   "execution_count": 35,
   "metadata": {},
   "outputs": [
    {
     "name": "stdout",
     "output_type": "stream",
     "text": [
      "1\n",
      "5\n",
      "9\n",
      "Values\n",
      "2\n",
      "9\n"
     ]
    }
   ],
   "source": [
    "#range indexing\n",
    "ranges = range(1,12,4)\n",
    "for x in ranges: \n",
    "    print(x)\n",
    "print(\"Values\")\n",
    "print(ranges.index(9),ranges[2],sep=\"\\n\")"
   ]
  },
  {
   "cell_type": "code",
   "execution_count": 51,
   "metadata": {
    "scrolled": true
   },
   "outputs": [
    {
     "name": "stdout",
     "output_type": "stream",
     "text": [
      "er\n",
      "lear\n",
      "learning\n",
      "er\n",
      "[1, 2, 'a', 'sam', 2]\n",
      "[1, 2, 'a']\n",
      "['a', 'sam', 2]\n",
      "[2, 'sam']\n",
      "[2, 'a', 'sam']\n",
      "[2, 'a']\n"
     ]
    }
   ],
   "source": [
    "#slicing\n",
    "#supported by : string, bytes, tuple, list, range, arrays\n",
    "#dicts and sets CANNOT be sliced\n",
    "#slice(start, stop, step)\n",
    "#slice(stop)\n",
    "#[:::] operator\n",
    "#stops at stop-1\n",
    "strs = \"learning\"\n",
    "print(strs[slice(1,4,2)])\n",
    "print(strs[slice(4)])\n",
    "print(strs[:])\n",
    "print(strs[1:4:2])\n",
    "print(lst)\n",
    "print(lst[:3])\n",
    "print(lst[2:])\n",
    "print(lst[1::2])\n",
    "print(lst[1:-1])\n",
    "print(lst[-4:-2:1])"
   ]
  },
  {
   "cell_type": "code",
   "execution_count": 70,
   "metadata": {},
   "outputs": [
    {
     "name": "stdout",
     "output_type": "stream",
     "text": [
      "python\n",
      "('python ', 'is', 'awesome')\n",
      "[1, 2, 'a', 'sam', 2]\n",
      "[1, 2, 'a', 'sam', 2, 'pypy']\n",
      "[1, 2, 'a', 'sam', 2]\n",
      "array('i', [1, 2, 3, 4, 5, 6])\n",
      "array('i', [1, 2, 3, 4, 5, 6, 7, 8, 9])\n",
      "array('i', [1, 2, 3, 4, 5, 6])\n",
      "(1, 2, 3, 'a', 'b', 'c', 'd', 'e', 'd', 'e', 'd', 'e', 'd', 'e', 'd', 'e')\n",
      "(1, 2, 3, 'a', 'b', 'c', 'd', 'e', 'd', 'e', 'd', 'e', 'd', 'e', 'd', 'e', 'd', 'e')\n",
      "({1, 2, 3}, 25)\n",
      "(({1, 2, 3}, 25), 25)\n"
     ]
    }
   ],
   "source": [
    "#concatenation and multiplication of sequential data\n",
    "print(strsample)\n",
    "newstring = strsample +' ','is','awesome' #strings are immutable\n",
    "print(newstring)\n",
    "\n",
    "print(lst)\n",
    "print(lst+['pypy']) #concatenating 2 lists\n",
    "print(lst)\n",
    "\n",
    "\n",
    "# arr+[40,50] is not possible as array and list are not of same type\n",
    "\n",
    "print(arr)\n",
    "print(arr+array('i',[7,8,9]))\n",
    "print(arr)\n",
    "\n",
    "print(tup) \n",
    "tup+=('d','e') #gets changed permanently\n",
    "print(tup)\n",
    "print(sets)\n",
    "sets = sets,25 #makes it a tuple with comma separated elements\n",
    "print(sets) #again change is permanent due to tuple conversion"
   ]
  },
  {
   "cell_type": "code",
   "execution_count": 75,
   "metadata": {},
   "outputs": [
    {
     "data": {
      "text/plain": [
       "'pythonpythonpythonpythonpythonpythonpythonpythonpythonpythonpythonpythonpythonpythonpythonpythonpythonpythonpythonpythonpythonpythonpythonpythonpythonpythonpython'"
      ]
     },
     "execution_count": 75,
     "metadata": {},
     "output_type": "execute_result"
    }
   ],
   "source": [
    "strsample*=3\n",
    "strsample"
   ]
  },
  {
   "cell_type": "code",
   "execution_count": 83,
   "metadata": {},
   "outputs": [
    {
     "data": {
      "text/plain": [
       "[1, 32, 'aaa', 'sam', 2, 1, 32, 'aaa', 'sam', 2]"
      ]
     },
     "execution_count": 83,
     "metadata": {},
     "output_type": "execute_result"
    }
   ],
   "source": [
    "lst*2"
   ]
  },
  {
   "cell_type": "code",
   "execution_count": 84,
   "metadata": {},
   "outputs": [
    {
     "name": "stdout",
     "output_type": "stream",
     "text": [
      "[1, 32, 'aaa', 'sam', 2]\n",
      "[1, 64, 'aaaaaaaaa', 'sam', 2]\n"
     ]
    }
   ],
   "source": [
    "print(lst)\n",
    "lst[1]*=2\n",
    "lst[2]*=3\n",
    "print(lst)"
   ]
  },
  {
   "cell_type": "code",
   "execution_count": 86,
   "metadata": {},
   "outputs": [
    {
     "name": "stdout",
     "output_type": "stream",
     "text": [
      "(1, 2, 3, 'a', 'b', 'c', 'd', 'e', 'd', 'e', 'd', 'e', 'd', 'e', 'd', 'e', 'd', 'e')\n"
     ]
    },
    {
     "data": {
      "text/plain": [
       "(3, 'a', 3, 'a')"
      ]
     },
     "execution_count": 86,
     "metadata": {},
     "output_type": "execute_result"
    }
   ],
   "source": [
    "print(tup)\n",
    "tup[2:4]*2"
   ]
  },
  {
   "cell_type": "code",
   "execution_count": 87,
   "metadata": {},
   "outputs": [
    {
     "data": {
      "text/plain": [
       "array('i', [1, 2, 3, 4, 5, 6, 1, 2, 3, 4, 5, 6])"
      ]
     },
     "execution_count": 87,
     "metadata": {},
     "output_type": "execute_result"
    }
   ],
   "source": [
    "arr*2"
   ]
  },
  {
   "cell_type": "code",
   "execution_count": null,
   "metadata": {},
   "outputs": [],
   "source": [
    "#ranges*2 is unsupported. Range cannot be multiplied."
   ]
  }
 ],
 "metadata": {
  "kernelspec": {
   "display_name": "Python 3",
   "language": "python",
   "name": "python3"
  },
  "language_info": {
   "codemirror_mode": {
    "name": "ipython",
    "version": 3
   },
   "file_extension": ".py",
   "mimetype": "text/x-python",
   "name": "python",
   "nbconvert_exporter": "python",
   "pygments_lexer": "ipython3",
   "version": "3.7.4"
  }
 },
 "nbformat": 4,
 "nbformat_minor": 2
}
