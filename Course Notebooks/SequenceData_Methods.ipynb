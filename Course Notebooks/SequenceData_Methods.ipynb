{
 "cells": [
  {
   "cell_type": "markdown",
   "metadata": {},
   "source": [
    "\n",
    "\n",
    "# General sequence data methods\n",
    "\n",
    " "
   ]
  },
  {
   "cell_type": "markdown",
   "metadata": {},
   "source": [
    "# String Methods"
   ]
  },
  {
   "cell_type": "code",
   "execution_count": null,
   "metadata": {},
   "outputs": [],
   "source": [
    "strSample = 'learning is fun !'\n",
    "print(strSample)"
   ]
  },
  {
   "cell_type": "code",
   "execution_count": null,
   "metadata": {},
   "outputs": [],
   "source": [
    "strSample.capitalize( )  #  returns the string with its first character capitalized and the rest lowercased"
   ]
  },
  {
   "cell_type": "code",
   "execution_count": null,
   "metadata": {},
   "outputs": [],
   "source": [
    "strSample.title()        # to capitalise the first character of each word"
   ]
  },
  {
   "cell_type": "code",
   "execution_count": null,
   "metadata": {},
   "outputs": [],
   "source": [
    "strSample.swapcase()     # to swap the case of strings "
   ]
  },
  {
   "cell_type": "code",
   "execution_count": null,
   "metadata": {},
   "outputs": [],
   "source": [
    "strSample.find('n')      # to find the index of the given letter"
   ]
  },
  {
   "cell_type": "code",
   "execution_count": null,
   "metadata": {},
   "outputs": [],
   "source": [
    "strSample.count('a')     # to count total number of 'a' in the string"
   ]
  },
  {
   "cell_type": "code",
   "execution_count": null,
   "metadata": {},
   "outputs": [],
   "source": [
    "strSample.replace('fun','joyful') # to repace the letters/word"
   ]
  },
  {
   "cell_type": "code",
   "execution_count": null,
   "metadata": {},
   "outputs": [],
   "source": [
    "strSample.isalnum()      # Return true if all bytes in the sequence are \n",
    "                         # alphabetical ASCII characters or ASCII decimal digits, \n",
    "                         # false otherwise                      \n"
   ]
  },
  {
   "cell_type": "code",
   "execution_count": null,
   "metadata": {},
   "outputs": [],
   "source": [
    "name1  = 'GITAA'\n",
    "name2  = 'Pvt'\n",
    "name3  = 'Ltd'"
   ]
  },
  {
   "cell_type": "code",
   "execution_count": null,
   "metadata": {},
   "outputs": [],
   "source": [
    "name='{} {}. {}.'.format(name1,name2,name3)\n",
    "print(name)"
   ]
  },
  {
   "cell_type": "markdown",
   "metadata": {},
   "source": [
    "##  The below code will show all the functions that we can use for the particular variable:"
   ]
  },
  {
   "cell_type": "code",
   "execution_count": null,
   "metadata": {},
   "outputs": [],
   "source": [
    "print(dir(name))"
   ]
  },
  {
   "cell_type": "code",
   "execution_count": null,
   "metadata": {},
   "outputs": [],
   "source": [
    "print(help(str))"
   ]
  },
  {
   "cell_type": "code",
   "execution_count": null,
   "metadata": {},
   "outputs": [],
   "source": [
    "print(help(str.find))"
   ]
  },
  {
   "cell_type": "markdown",
   "metadata": {},
   "source": [
    "\n",
    "# Sequence datatype object initializations <br>\n"
   ]
  },
  {
   "cell_type": "code",
   "execution_count": 2,
   "metadata": {},
   "outputs": [],
   "source": [
    "strSample = 'learning is fun !'         # STRING"
   ]
  },
  {
   "cell_type": "code",
   "execution_count": 3,
   "metadata": {},
   "outputs": [],
   "source": [
    "lstSample = [1,2,'a','sam',2]           # list"
   ]
  },
  {
   "cell_type": "code",
   "execution_count": 4,
   "metadata": {},
   "outputs": [],
   "source": [
    "from array import *"
   ]
  },
  {
   "cell_type": "code",
   "execution_count": 5,
   "metadata": {},
   "outputs": [],
   "source": [
    "arrSample = array('i',[1,2,3,4])        # array"
   ]
  },
  {
   "cell_type": "code",
   "execution_count": 6,
   "metadata": {},
   "outputs": [],
   "source": [
    "tupSample = (1,2,3,4,3,'py')            # tuple "
   ]
  },
  {
   "cell_type": "code",
   "execution_count": 7,
   "metadata": {},
   "outputs": [],
   "source": [
    "dictSample= {1:'first', 'second':2, 3:3, 'four':'4'} # dictionary"
   ]
  },
  {
   "cell_type": "code",
   "execution_count": 8,
   "metadata": {},
   "outputs": [
    {
     "name": "stdout",
     "output_type": "stream",
     "text": [
      "1\n",
      "5\n",
      "9\n"
     ]
    }
   ],
   "source": [
    "setSample = {'example',24,87.5,'data',24,'data'}      # set\n",
    "                \n",
    "keys      = (1,'second',3,'four')\n",
    "  \n",
    "rangeSample = range(1,12,4)             # built-in sequence type used for looping\n",
    "               \n",
    "for x in rangeSample: print(x)       "
   ]
  },
  {
   "cell_type": "markdown",
   "metadata": {},
   "source": [
    "# len(object) returns number of elements in the object \n",
    "<br>accepted object types: string, list, array, tuple, dictionary, set, range   <br>\n"
   ]
  },
  {
   "cell_type": "code",
   "execution_count": null,
   "metadata": {},
   "outputs": [],
   "source": [
    "print(\"No. of elements in the object :\")\n",
    "print(\"string = {} , list= {}, array= {}, tuple = {},\\\n",
    "      dictionary ={}, set ={}, range ={}\".format(len(strSample), len(lstSample),\n",
    "      len(arrSample) , len(tupSample), len(dictSample), len(setSample), len(rangeSample)))"
   ]
  },
  {
   "cell_type": "code",
   "execution_count": null,
   "metadata": {},
   "outputs": [],
   "source": [
    "print(lstSample)"
   ]
  },
  {
   "cell_type": "code",
   "execution_count": null,
   "metadata": {},
   "outputs": [],
   "source": [
    "lstSample.reverse()        # Reverses the order of the list\n",
    "print(lstSample)"
   ]
  },
  {
   "cell_type": "markdown",
   "metadata": {},
   "source": [
    "\n",
    "# The clear() method removes all items from the object<br>\n",
    "   Supported sequence data: list, dictionary, set<br>\n"
   ]
  },
  {
   "cell_type": "code",
   "execution_count": null,
   "metadata": {},
   "outputs": [],
   "source": [
    "lstSample.clear()\n",
    "print(lstSample)"
   ]
  },
  {
   "cell_type": "code",
   "execution_count": null,
   "metadata": {},
   "outputs": [],
   "source": [
    "dictSample.clear()\n",
    "print(dictSample)"
   ]
  },
  {
   "cell_type": "code",
   "execution_count": null,
   "metadata": {},
   "outputs": [],
   "source": [
    "setSample.clear()\n",
    "print(setSample)"
   ]
  },
  {
   "cell_type": "markdown",
   "metadata": {},
   "source": [
    "\n",
    "# append()\tAdds an element at the end of the object<br>\n",
    "   Supported datatypes: array, list, set<br>\n"
   ]
  },
  {
   "cell_type": "code",
   "execution_count": null,
   "metadata": {},
   "outputs": [],
   "source": [
    "arrSample.append(3)            # adding an element, 3 to the 'arrSample'\n",
    "print(arrSample)               # updated array, arrSample               "
   ]
  },
  {
   "cell_type": "code",
   "execution_count": null,
   "metadata": {},
   "outputs": [],
   "source": [
    "print(lstSample)"
   ]
  },
  {
   "cell_type": "code",
   "execution_count": null,
   "metadata": {},
   "outputs": [],
   "source": [
    "lstSample.append([2,4])        # adding [2, 4] list to lstSample\n",
    "print(lstSample)               # updated list            "
   ]
  },
  {
   "cell_type": "code",
   "execution_count": null,
   "metadata": {},
   "outputs": [],
   "source": [
    "#setSample.append(20)           # AttributeError: 'set' object has no attribute 'append'\n",
    "setSample.add(20)              # add() takes single parameter(element) which needs to \n",
    "                               # be added in the set\n",
    "print(setSample)           "
   ]
  },
  {
   "cell_type": "markdown",
   "metadata": {},
   "source": [
    "\n",
    " # update() function in set adds elements from a set (passed as an argument) to the set\n",
    "    - This method takes only single argument\n",
    "    - The single argument can be a set, list, tuples or a dictionary\n",
    "    - It automatically converts into a set and adds to the set\n",
    "         "
   ]
  },
  {
   "cell_type": "code",
   "execution_count": null,
   "metadata": {},
   "outputs": [],
   "source": [
    "setSample.update([5,10])       # adding a list of elements to the set \n",
    "print(setSample)               # updated set"
   ]
  },
  {
   "cell_type": "markdown",
   "metadata": {},
   "source": [
    "#  Dictionary Methods    "
   ]
  },
  {
   "cell_type": "code",
   "execution_count": null,
   "metadata": {},
   "outputs": [],
   "source": [
    "print(dictSample)"
   ]
  },
  {
   "cell_type": "code",
   "execution_count": null,
   "metadata": {},
   "outputs": [],
   "source": [
    "dictSample[\"five\"]  = 5\n",
    "print(dictSample)              "
   ]
  },
  {
   "cell_type": "code",
   "execution_count": null,
   "metadata": {},
   "outputs": [],
   "source": [
    "dictSample.update(five = 5)   # update the dictionary with the key/value pairs from other,\n",
    "                              # overwriting existing keys\n",
    "print(dictSample)             # updated dictionary"
   ]
  },
  {
   "cell_type": "code",
   "execution_count": null,
   "metadata": {},
   "outputs": [],
   "source": [
    "list(dictSample)              # returns a list of all the keys used in the dictionary dictSample"
   ]
  },
  {
   "cell_type": "code",
   "execution_count": null,
   "metadata": {},
   "outputs": [],
   "source": [
    "len(dictSample)               # returns the number of items in the dictionary"
   ]
  },
  {
   "cell_type": "code",
   "execution_count": null,
   "metadata": {},
   "outputs": [],
   "source": [
    "dictSample.get(\"five\")        # it is a conventional method to access a value for a key"
   ]
  },
  {
   "cell_type": "code",
   "execution_count": null,
   "metadata": {},
   "outputs": [],
   "source": [
    "dictSample.keys()             # returns list of keys in dictionary"
   ]
  },
  {
   "cell_type": "code",
   "execution_count": null,
   "metadata": {},
   "outputs": [],
   "source": [
    "dictSample.items()            # returns a list of (key, value) tuple pairs"
   ]
  },
  {
   "cell_type": "markdown",
   "metadata": {},
   "source": [
    "\n",
    " # insert()- inserts the element at the specified index of the object\n",
    "    - supported datatypes: array, list\n",
    "   "
   ]
  },
  {
   "cell_type": "code",
   "execution_count": null,
   "metadata": {},
   "outputs": [],
   "source": [
    "print(arrSample)"
   ]
  },
  {
   "cell_type": "code",
   "execution_count": null,
   "metadata": {},
   "outputs": [],
   "source": [
    "arrSample.insert(1,100)       # inserting the element 100 at 2nd position\n",
    "print(arrSample)              # printing array"
   ]
  },
  {
   "cell_type": "code",
   "execution_count": null,
   "metadata": {},
   "outputs": [],
   "source": [
    "lstSample.insert(5,24)        # inserting the element 24 at 5th position\n",
    "print(lstSample)              # printing list"
   ]
  },
  {
   "cell_type": "markdown",
   "metadata": {},
   "source": [
    "\n",
    "# pop()- removes the element at the given index from the object and prints the same\n",
    "   - default value is -1, which returns the last item\n",
    "   - supported datatypes: array, list, set, dictionary\n"
   ]
  },
  {
   "cell_type": "code",
   "execution_count": null,
   "metadata": {},
   "outputs": [],
   "source": [
    "arrSample.pop()                 # deleting the last element and prints the same              "
   ]
  },
  {
   "cell_type": "code",
   "execution_count": null,
   "metadata": {},
   "outputs": [],
   "source": [
    "print(lstSample)\n",
    "lstSample.pop(4)                # deleting the 5th element from the list              "
   ]
  },
  {
   "cell_type": "code",
   "execution_count": null,
   "metadata": {},
   "outputs": [],
   "source": [
    "print(dictSample)\n",
    "dictSample.pop('second')        # deleting the key - second           "
   ]
  },
  {
   "cell_type": "code",
   "execution_count": null,
   "metadata": {},
   "outputs": [],
   "source": [
    "dictSample.pop(3)               # deleting the key - 3"
   ]
  },
  {
   "cell_type": "markdown",
   "metadata": {},
   "source": [
    "# Set is an unordered sequence and hence pop is not usually used"
   ]
  },
  {
   "cell_type": "markdown",
   "metadata": {},
   "source": [
    "\n",
    " # The remove() method removes the first occurrence of the element with the specified value<br>\n",
    "    - supported datatypes: array, list, dictionary, set\n"
   ]
  },
  {
   "cell_type": "code",
   "execution_count": null,
   "metadata": {},
   "outputs": [],
   "source": [
    "print(arrSample)"
   ]
  },
  {
   "cell_type": "code",
   "execution_count": null,
   "metadata": {},
   "outputs": [],
   "source": [
    "arrSample.remove(0)             # ValueError: array.remove(x): x not in list              "
   ]
  },
  {
   "cell_type": "code",
   "execution_count": null,
   "metadata": {},
   "outputs": [],
   "source": [
    "arrSample.remove(2)             # removes the element 2 from the array, arrSample\n",
    "print(arrSample) "
   ]
  },
  {
   "cell_type": "code",
   "execution_count": null,
   "metadata": {},
   "outputs": [],
   "source": [
    "print(lstSample)\n",
    "lstSample.remove('sam')         # removes the element 'sam' from the list, lstSample\n",
    "print(lstSample)                "
   ]
  },
  {
   "cell_type": "code",
   "execution_count": null,
   "metadata": {},
   "outputs": [],
   "source": [
    "print(setSample)\n",
    "setSample.remove(57)            # KeyError: 57"
   ]
  },
  {
   "cell_type": "code",
   "execution_count": null,
   "metadata": {},
   "outputs": [],
   "source": [
    "setSample.discard(57)           # The set remains unchanged if the element passed to \n",
    "                                # discard() method doesn't exist\n",
    "print(setSample)"
   ]
  },
  {
   "cell_type": "markdown",
   "metadata": {},
   "source": [
    "\n",
    " #  del: deletes the entire object of any data type\n",
    "    - syntax: del obj_name\n",
    "    - del is a Python keyword\n",
    "    - obj_name can be variables, user-defined objects, lists, items \n",
    "      within lists, dictionaries etc.\n"
   ]
  },
  {
   "cell_type": "code",
   "execution_count": null,
   "metadata": {},
   "outputs": [],
   "source": [
    "del setSample                   # deleting the set, setSample\n",
    "print(setSample)                # NameError: name 'setSample' is not defined"
   ]
  },
  {
   "cell_type": "code",
   "execution_count": null,
   "metadata": {},
   "outputs": [],
   "source": [
    "del arrSample                   # deleting the array, arrSample\n",
    "print(arrSample)                # NameError: name 'arrSample' is not defined"
   ]
  },
  {
   "cell_type": "code",
   "execution_count": null,
   "metadata": {},
   "outputs": [],
   "source": [
    "del lstSample                   # deleting the list, lstSample\n",
    "print(lstSample)                # NameError: name 'lstSample' is not defined"
   ]
  },
  {
   "cell_type": "code",
   "execution_count": null,
   "metadata": {},
   "outputs": [],
   "source": [
    "del lstSample[2]                # deleting the third item\n",
    "print(lstSample)"
   ]
  },
  {
   "cell_type": "code",
   "execution_count": null,
   "metadata": {},
   "outputs": [],
   "source": [
    "del lstSample[1:3]              # deleting elements from 2nd to 4th       \n",
    "print(lstSample)"
   ]
  },
  {
   "cell_type": "code",
   "execution_count": null,
   "metadata": {},
   "outputs": [],
   "source": [
    "del lstSample[:]                # deleting all elements from the list\n",
    "print(lstSample)"
   ]
  },
  {
   "cell_type": "code",
   "execution_count": null,
   "metadata": {},
   "outputs": [],
   "source": [
    "del dictSample                  # deleting the dictionary, dictSample\n",
    "print(dictSample)"
   ]
  },
  {
   "cell_type": "markdown",
   "metadata": {},
   "source": [
    "\n",
    " # The extend() method adds the specified list elements (or any iterable - list, set, tuple, etc.) to the end of the current list\n"
   ]
  },
  {
   "cell_type": "markdown",
   "metadata": {},
   "source": [
    "# Array operations "
   ]
  },
  {
   "cell_type": "code",
   "execution_count": 10,
   "metadata": {},
   "outputs": [
    {
     "name": "stdout",
     "output_type": "stream",
     "text": [
      "array('i', [1, 2, 3, 4, 4, 5, 3, 5, 4, 5, 3, 5])\n"
     ]
    }
   ],
   "source": [
    "arrSample.extend((4,5,3,5))     # add a tuple to the arrSample array:\n",
    "print(arrSample)                \n"
   ]
  },
  {
   "cell_type": "code",
   "execution_count": 11,
   "metadata": {},
   "outputs": [
    {
     "ename": "TypeError",
     "evalue": "an integer is required (got type str)",
     "output_type": "error",
     "traceback": [
      "Traceback \u001b[1;36m(most recent call last)\u001b[0m:\n",
      "\u001b[1;36m  File \u001b[1;32m\"<ipython-input-11-9f9b870f6629>\"\u001b[1;36m, line \u001b[1;32m1\u001b[1;36m, in \u001b[1;35m<module>\u001b[1;36m\u001b[0m\n\u001b[1;33m    print(arrSample.extend(['sam']))  # TypeError: an integer is required (got type str) - should match with itemcode of the array\u001b[0m\n",
      "\u001b[1;31mTypeError\u001b[0m\u001b[1;31m:\u001b[0m an integer is required (got type str)\n"
     ]
    }
   ],
   "source": [
    "print(arrSample.extend(['sam']))  # TypeError: an integer is required (got type str) - should match with itemcode of the array"
   ]
  },
  {
   "cell_type": "code",
   "execution_count": 13,
   "metadata": {},
   "outputs": [
    {
     "name": "stdout",
     "output_type": "stream",
     "text": [
      "array('i', [1, 2, 3, 4, 4, 5, 3, 5, 4, 5, 3, 5, 3, 4, 3, 4])\n"
     ]
    },
    {
     "data": {
      "text/plain": [
       "[1, 2, 3, 4, 4, 5, 3, 5, 4, 5, 3, 5, 3, 4, 3, 4]"
      ]
     },
     "execution_count": 13,
     "metadata": {},
     "output_type": "execute_result"
    }
   ],
   "source": [
    "arrSample.fromlist([3, 4])      # add values from a list to an array\n",
    "print(arrSample)\n",
    "    \n",
    "arrSample.tolist()              # to convert an array into an ordinary list with the same items"
   ]
  },
  {
   "cell_type": "code",
   "execution_count": null,
   "metadata": {},
   "outputs": [],
   "source": [
    "range"
   ]
  },
  {
   "cell_type": "markdown",
   "metadata": {},
   "source": [
    "# List operations "
   ]
  },
  {
   "cell_type": "markdown",
   "metadata": {},
   "source": [
    "\n",
    " # Create a list using loop and function<br>\n"
   ]
  },
  {
   "cell_type": "code",
   "execution_count": 15,
   "metadata": {},
   "outputs": [],
   "source": [
    "def numbers(n):\n",
    "    return [i for i in range(1, n+1)]"
   ]
  },
  {
   "cell_type": "code",
   "execution_count": 16,
   "metadata": {},
   "outputs": [
    {
     "data": {
      "text/plain": [
       "[1, 2, 3, 4, 5, 6, 7, 8, 9, 10]"
      ]
     },
     "execution_count": 16,
     "metadata": {},
     "output_type": "execute_result"
    }
   ],
   "source": [
    "numbers(10)"
   ]
  },
  {
   "cell_type": "markdown",
   "metadata": {},
   "source": [
    "# Set operations "
   ]
  },
  {
   "cell_type": "markdown",
   "metadata": {},
   "source": [
    "# setSample\n",
    " - A set is an unordered collection of items<br>\n",
    "    - Every element is unique (no duplicates) <br>\n",
    "    - Sets can be used to perform mathematical set operations like <br>\n",
    "      union, intersection, symmetric difference etc<br>\n"
   ]
  },
  {
   "cell_type": "code",
   "execution_count": 17,
   "metadata": {},
   "outputs": [
    {
     "name": "stdout",
     "output_type": "stream",
     "text": [
      "{24, 'data', 'example', 87.5}\n"
     ]
    }
   ],
   "source": [
    "A = {'example',24,87.5,'data',24,'data'} # set of mixed data types\n",
    "print(A)"
   ]
  },
  {
   "cell_type": "code",
   "execution_count": 18,
   "metadata": {},
   "outputs": [
    {
     "name": "stdout",
     "output_type": "stream",
     "text": [
      "{24, 87.5}\n"
     ]
    }
   ],
   "source": [
    "B = {24, 87.5}            # set of integers\n",
    "print(B)"
   ]
  },
  {
   "cell_type": "code",
   "execution_count": 20,
   "metadata": {},
   "outputs": [
    {
     "name": "stdout",
     "output_type": "stream",
     "text": [
      "{'example', 87.5, 24, 'data'}\n"
     ]
    },
    {
     "data": {
      "text/plain": [
       "{24, 87.5, 'data', 'example'}"
      ]
     },
     "execution_count": 20,
     "metadata": {},
     "output_type": "execute_result"
    }
   ],
   "source": [
    "print(A | B)              # union of A and B is a set of all elements from both sets\n",
    "A.union(B)                # using union() on B"
   ]
  },
  {
   "cell_type": "code",
   "execution_count": 21,
   "metadata": {},
   "outputs": [
    {
     "name": "stdout",
     "output_type": "stream",
     "text": [
      "{24, 87.5}\n"
     ]
    },
    {
     "data": {
      "text/plain": [
       "{24, 87.5}"
      ]
     },
     "execution_count": 21,
     "metadata": {},
     "output_type": "execute_result"
    }
   ],
   "source": [
    "print(A & B)              # intersection of A and B is a set of elements that are common in both sets\n",
    "A.intersection(B)         # using intersection() on B\n",
    "       "
   ]
  },
  {
   "cell_type": "markdown",
   "metadata": {},
   "source": [
    "# END OF SCRIPT"
   ]
  }
 ],
 "metadata": {
  "kernelspec": {
   "display_name": "Python 3 (Spyder)",
   "language": "python3",
   "name": "python3"
  },
  "language_info": {
   "codemirror_mode": {
    "name": "ipython",
    "version": 3
   },
   "file_extension": ".py",
   "mimetype": "text/x-python",
   "name": "python",
   "nbconvert_exporter": "python",
   "pygments_lexer": "ipython3",
   "version": "3.7.4"
  }
 },
 "nbformat": 4,
 "nbformat_minor": 2
}
